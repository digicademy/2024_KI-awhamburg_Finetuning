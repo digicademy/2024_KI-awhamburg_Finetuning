{
 "cells": [
  {
   "cell_type": "markdown",
   "id": "arranged-ladder",
   "metadata": {},
   "source": [
    "# Import Modules and init Formatting Funtions"
   ]
  },
  {
   "cell_type": "code",
   "execution_count": 1,
   "id": "graduate-bridge",
   "metadata": {},
   "outputs": [],
   "source": [
    "import pandas as pd\n",
    "\n",
    "import torch\n",
    "from transformers import pipeline\n",
    "\n",
    "\n",
    "def format_results(results, precision=3):\n",
    "    return { result[\"label\"]: round(result[\"score\"], precision) for result in results[0] } # round to n decimal places\n",
    "\n",
    "\n",
    "def format_zeroshot(result, top_k):\n",
    "    return [[{\"label\": result[\"labels\"][i], \"score\": result[\"scores\"][i]} for i in range(3)]] # match fine-tuned output"
   ]
  },
  {
   "cell_type": "markdown",
   "id": "checked-queen",
   "metadata": {},
   "source": [
    "# Init Global Vars"
   ]
  },
  {
   "cell_type": "code",
   "execution_count": 2,
   "id": "involved-taste",
   "metadata": {},
   "outputs": [
    {
     "name": "stdout",
     "output_type": "stream",
     "text": [
      "DEVICE IS cpu\n"
     ]
    }
   ],
   "source": [
    "DEVICE = torch.device(\"cuda\") if torch.cuda.is_available() else torch.device(\"cpu\") # use GPU if possible\n",
    "print(\"DEVICE IS\", DEVICE)\n",
    "\n",
    "TOP_K = 3 # return the top 3 classes\n",
    "\n",
    "LABELS = [\"Beruf\", \"Herkunft\", \"Kompositionelles Motiv\", \"Rufname\", \"Rufnamenmuster\", \"Wohnstätte\", \"Übername\"]"
   ]
  },
  {
   "cell_type": "markdown",
   "id": "known-kansas",
   "metadata": {},
   "source": [
    "# Apply Fine-tuned Model to Examples"
   ]
  },
  {
   "cell_type": "code",
   "execution_count": 3,
   "id": "governing-hopkins",
   "metadata": {},
   "outputs": [],
   "source": [
    "# init model\n",
    "finetuned_pipeline = pipeline(\n",
    "    \"text-classification\", \n",
    "    model=\"../models/fine-tuned/gbert-base-dfd-motives\", \n",
    "    device=DEVICE, \n",
    "    top_k=TOP_K\n",
    ")"
   ]
  },
  {
   "cell_type": "code",
   "execution_count": 4,
   "id": "touched-helmet",
   "metadata": {},
   "outputs": [
    {
     "name": "stdout",
     "output_type": "stream",
     "text": [
      "Hamburger {'Übername': 0.373, 'Beruf': 0.264, 'Wohnstätte': 0.26}\n",
      "Brookshire {'Herkunft': 0.994, 'Beruf': 0.002, 'Wohnstätte': 0.001}\n"
     ]
    }
   ],
   "source": [
    "texts = [\"Hamburger\", \"Brookshire\"]\n",
    "\n",
    "for text in texts:\n",
    "    classification_results = finetuned_pipeline(text)\n",
    "    print(text, format_results(classification_results))"
   ]
  },
  {
   "cell_type": "markdown",
   "id": "extended-indicator",
   "metadata": {},
   "source": [
    "# Zero-shot Approach"
   ]
  },
  {
   "cell_type": "code",
   "execution_count": 5,
   "id": "extraordinary-wednesday",
   "metadata": {},
   "outputs": [],
   "source": [
    "# init model\n",
    "zeroshot_pipeline = pipeline(\n",
    "    \"zero-shot-classification\", \n",
    "    model=\"MoritzLaurer/mDeBERTa-v3-base-mnli-xnli\",\n",
    "    device=DEVICE\n",
    ")"
   ]
  },
  {
   "cell_type": "code",
   "execution_count": 6,
   "id": "general-masters",
   "metadata": {},
   "outputs": [
    {
     "name": "stdout",
     "output_type": "stream",
     "text": [
      "Hamburger {'Wohnstätte': 0.282, 'Herkunft': 0.21, 'Rufnamenmuster': 0.209}\n",
      "Brookshire {'Rufnamenmuster': 0.337, 'Wohnstätte': 0.23, 'Herkunft': 0.157}\n"
     ]
    }
   ],
   "source": [
    "for text in texts:\n",
    "    classification_results = zeroshot_pipeline(text, LABELS)\n",
    "    print(text, format_results(format_zeroshot(classification_results, TOP_K)))"
   ]
  }
 ],
 "metadata": {
  "kernelspec": {
   "display_name": "Python (shap-env)",
   "language": "python",
   "name": "shap-env"
  },
  "language_info": {
   "codemirror_mode": {
    "name": "ipython",
    "version": 3
   },
   "file_extension": ".py",
   "mimetype": "text/x-python",
   "name": "python",
   "nbconvert_exporter": "python",
   "pygments_lexer": "ipython3",
   "version": "3.8.10"
  }
 },
 "nbformat": 4,
 "nbformat_minor": 5
}
